{
 "cells": [
  {
   "cell_type": "code",
   "execution_count": 7,
   "metadata": {},
   "outputs": [
    {
     "name": "stdout",
     "output_type": "stream",
     "text": [
      "['1', '2', '3', '4', '5.75']\n"
     ]
    }
   ],
   "source": [
    "import re\n",
    "def set_values(medidas: str):\n",
    "    num_pattern = re.compile(r'[+-]?(?:\\d+\\.\\d+|\\d+\\.\\d*|\\.\\d+|\\d+)')\n",
    "    finder = re.findall(num_pattern, medidas)\n",
    "    print(finder)\n",
    "\n",
    "stringo = \"0.35 22.165 0. 1234. .0 .5678 123 +456 -789 +.5 -.6\" \n",
    "stringo = \"1,2,3,4,\" \n",
    "stringo = \"1 2 3 4 5.75\" \n",
    "set_values(stringo)"
   ]
  },
  {
   "cell_type": "code",
   "execution_count": 12,
   "metadata": {},
   "outputs": [
    {
     "name": "stdout",
     "output_type": "stream",
     "text": [
      "('media', 'label_media')\n",
      "('desv', 'label_desv')\n",
      "('inca', 'label_inca')\n",
      "('incb', 'label_incb')\n",
      "('incc', 'label_incc')\n"
     ]
    }
   ],
   "source": [
    "inc_list = [\n",
    "    \"media\",\n",
    "    \"desv\",\n",
    "    \"inca\",\n",
    "    \"incb\",\n",
    "    \"incc\",\n",
    "]\n",
    "\n",
    "labels = [\n",
    "    \"label_media\",\n",
    "    \"label_desv\",\n",
    "    \"label_inca\",\n",
    "    \"label_incb\",\n",
    "    \"label_incc\",\n",
    "]\n",
    "\n",
    "sipper = zip(inc_list,labels)\n",
    "\n",
    "for inc, label in sipper:\n",
    "    print()"
   ]
  },
  {
   "cell_type": "code",
   "execution_count": 5,
   "metadata": {},
   "outputs": [
    {
     "data": {
      "text/plain": [
       "'geracao_de_grafico'"
      ]
     },
     "execution_count": 5,
     "metadata": {},
     "output_type": "execute_result"
    }
   ],
   "source": [
    "from unidecode import unidecode\n",
    "link = \"Geração de gráfico\"\n",
    "unidecode(link.casefold().replace(\" \", \"_\"))"
   ]
  },
  {
   "cell_type": "code",
   "execution_count": null,
   "metadata": {},
   "outputs": [],
   "source": []
  }
 ],
 "metadata": {
  "kernelspec": {
   "display_name": "Python 3",
   "language": "python",
   "name": "python3"
  },
  "language_info": {
   "codemirror_mode": {
    "name": "ipython",
    "version": 3
   },
   "file_extension": ".py",
   "mimetype": "text/x-python",
   "name": "python",
   "nbconvert_exporter": "python",
   "pygments_lexer": "ipython3",
   "version": "3.9.13"
  }
 },
 "nbformat": 4,
 "nbformat_minor": 2
}
